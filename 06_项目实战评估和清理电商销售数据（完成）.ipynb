{
 "cells": [
  {
   "cell_type": "markdown",
   "metadata": {
    "id": "pRgZL65QV1rd"
   },
   "source": [
    "# 项目：评估和清理英国电商公司销售数据"
   ]
  },
  {
   "cell_type": "markdown",
   "metadata": {
    "id": "RqDKJaCwV1rf"
   },
   "source": [
    "## 分析目标"
   ]
  },
  {
   "cell_type": "markdown",
   "metadata": {
    "id": "rcwPtKn-V1rf"
   },
   "source": [
    "此数据分析的目的是，根据市场销售数据，挖掘畅销产品，以便制定更有效的市场策略来提升营收。\n",
    "\n",
    "本实战项目的目的在于练习评估数据干净和整洁度，并且基于评估结果，对数据进行清洗，从而得到可供下一步分析的数据。"
   ]
  },
  {
   "cell_type": "markdown",
   "metadata": {
    "id": "fzXHMypfV1rf"
   },
   "source": [
    "## 简介"
   ]
  },
  {
   "cell_type": "markdown",
   "metadata": {
    "id": "8o9aCnIDV1rg"
   },
   "source": [
    "原始数据集记录了一家英国在线零售公司在2010年12月1日至2011年12月9日期间的所有交易情况，涵盖了该公司在全球不同国家和地区的业务数据。该公司主要销售覆盖各个场景的礼品，包括但不限于生日礼品、结婚纪念品、圣诞礼品等等。该公司的客户群体主要包括批发商和个人消费者，其中批发商占据了相当大的比例。"
   ]
  },
  {
   "cell_type": "markdown",
   "metadata": {
    "id": "dyzp7qW7V1rg"
   },
   "source": [
    "数据每列的含义如下：\n",
    "- `InvoiceNo`: 发票号码。6位数，作为交易的唯一标识符。如果这个代码以字母“c”开头，表示这笔交易被取消。\n",
    "- `StockCode`: 产品代码。5位数，作为产品的唯一标识符。\n",
    "- `Description`: 产品名称。\n",
    "- `Quantity`: 产品在交易中的数量。\n",
    "- `InvoiceDate`: 发票日期和时间。交易发生的日期和时间。\n",
    "- `UnitPrice`: 单价。价格单位为英镑（£）。\n",
    "- `CustomerID`: 客户编号。5位数，作为客户的唯一标识符。\n",
    "- `Country`: 国家名称。客户所居住的国家的名称。"
   ]
  },
  {
   "cell_type": "markdown",
   "metadata": {
    "id": "WlWli85YV1rg"
   },
   "source": [
    "## 讀取數據"
   ]
  },
  {
   "cell_type": "code",
   "execution_count": 1,
   "metadata": {
    "executionInfo": {
     "elapsed": 359,
     "status": "ok",
     "timestamp": 1759465538394,
     "user": {
      "displayName": "Derek Un",
      "userId": "04159970689370047912"
     },
     "user_tz": -480
    },
    "id": "HVi2GEupV1rg"
   },
   "outputs": [],
   "source": [
    "import pandas as pd"
   ]
  },
  {
   "cell_type": "code",
   "execution_count": 2,
   "metadata": {
    "colab": {
     "base_uri": "https://localhost:8080/",
     "height": 76
    },
    "executionInfo": {
     "elapsed": 124961,
     "status": "ok",
     "timestamp": 1759465663360,
     "user": {
      "displayName": "Derek Un",
      "userId": "04159970689370047912"
     },
     "user_tz": -480
    },
    "id": "mTHWTQh2cuNO",
    "outputId": "6fabe307-8305-4738-e74c-3fd8ff39b0ad"
   },
   "outputs": [],
   "source": [
    "# from google.colab import files  ###要把檔案上傳到colab才可以讀取文件\n",
    "# uploaded = files.upload()"
   ]
  },
  {
   "cell_type": "code",
   "execution_count": 3,
   "metadata": {},
   "outputs": [],
   "source": [
    "original_data = pd.read_csv(r\"C:\\Users\\User\\Desktop\\python\\e_commerce.csv\")"
   ]
  },
  {
   "cell_type": "code",
   "execution_count": 4,
   "metadata": {
    "colab": {
     "base_uri": "https://localhost:8080/",
     "height": 293
    },
    "executionInfo": {
     "elapsed": 577,
     "status": "ok",
     "timestamp": 1759465663942,
     "user": {
      "displayName": "Derek Un",
      "userId": "04159970689370047912"
     },
     "user_tz": -480
    },
    "id": "ZYbClixncuZ-",
    "outputId": "1ad0882b-045f-4186-ebcd-bd7796074194"
   },
   "outputs": [
    {
     "data": {
      "text/html": [
       "<div>\n",
       "<style scoped>\n",
       "    .dataframe tbody tr th:only-of-type {\n",
       "        vertical-align: middle;\n",
       "    }\n",
       "\n",
       "    .dataframe tbody tr th {\n",
       "        vertical-align: top;\n",
       "    }\n",
       "\n",
       "    .dataframe thead th {\n",
       "        text-align: right;\n",
       "    }\n",
       "</style>\n",
       "<table border=\"1\" class=\"dataframe\">\n",
       "  <thead>\n",
       "    <tr style=\"text-align: right;\">\n",
       "      <th></th>\n",
       "      <th>InvoiceNo</th>\n",
       "      <th>StockCode</th>\n",
       "      <th>Description</th>\n",
       "      <th>Quantity</th>\n",
       "      <th>InvoiceDate</th>\n",
       "      <th>UnitPrice</th>\n",
       "      <th>CustomerID</th>\n",
       "      <th>Country</th>\n",
       "    </tr>\n",
       "  </thead>\n",
       "  <tbody>\n",
       "    <tr>\n",
       "      <th>0</th>\n",
       "      <td>536365</td>\n",
       "      <td>85123A</td>\n",
       "      <td>WHITE HANGING HEART T-LIGHT HOLDER</td>\n",
       "      <td>6</td>\n",
       "      <td>12/1/2010 8:26</td>\n",
       "      <td>2.55</td>\n",
       "      <td>17850.0</td>\n",
       "      <td>United Kingdom</td>\n",
       "    </tr>\n",
       "    <tr>\n",
       "      <th>1</th>\n",
       "      <td>536365</td>\n",
       "      <td>71053</td>\n",
       "      <td>WHITE METAL LANTERN</td>\n",
       "      <td>6</td>\n",
       "      <td>12/1/2010 8:26</td>\n",
       "      <td>3.39</td>\n",
       "      <td>17850.0</td>\n",
       "      <td>United Kingdom</td>\n",
       "    </tr>\n",
       "    <tr>\n",
       "      <th>2</th>\n",
       "      <td>536365</td>\n",
       "      <td>84406B</td>\n",
       "      <td>CREAM CUPID HEARTS COAT HANGER</td>\n",
       "      <td>8</td>\n",
       "      <td>12/1/2010 8:26</td>\n",
       "      <td>2.75</td>\n",
       "      <td>17850.0</td>\n",
       "      <td>United Kingdom</td>\n",
       "    </tr>\n",
       "    <tr>\n",
       "      <th>3</th>\n",
       "      <td>536365</td>\n",
       "      <td>84029G</td>\n",
       "      <td>KNITTED UNION FLAG HOT WATER BOTTLE</td>\n",
       "      <td>6</td>\n",
       "      <td>12/1/2010 8:26</td>\n",
       "      <td>3.39</td>\n",
       "      <td>17850.0</td>\n",
       "      <td>United Kingdom</td>\n",
       "    </tr>\n",
       "    <tr>\n",
       "      <th>4</th>\n",
       "      <td>536365</td>\n",
       "      <td>84029E</td>\n",
       "      <td>RED WOOLLY HOTTIE WHITE HEART.</td>\n",
       "      <td>6</td>\n",
       "      <td>12/1/2010 8:26</td>\n",
       "      <td>3.39</td>\n",
       "      <td>17850.0</td>\n",
       "      <td>United Kingdom</td>\n",
       "    </tr>\n",
       "  </tbody>\n",
       "</table>\n",
       "</div>"
      ],
      "text/plain": [
       "  InvoiceNo StockCode                          Description  Quantity  \\\n",
       "0    536365    85123A   WHITE HANGING HEART T-LIGHT HOLDER         6   \n",
       "1    536365     71053                  WHITE METAL LANTERN         6   \n",
       "2    536365    84406B       CREAM CUPID HEARTS COAT HANGER         8   \n",
       "3    536365    84029G  KNITTED UNION FLAG HOT WATER BOTTLE         6   \n",
       "4    536365    84029E       RED WOOLLY HOTTIE WHITE HEART.         6   \n",
       "\n",
       "      InvoiceDate  UnitPrice  CustomerID         Country  \n",
       "0  12/1/2010 8:26       2.55     17850.0  United Kingdom  \n",
       "1  12/1/2010 8:26       3.39     17850.0  United Kingdom  \n",
       "2  12/1/2010 8:26       2.75     17850.0  United Kingdom  \n",
       "3  12/1/2010 8:26       3.39     17850.0  United Kingdom  \n",
       "4  12/1/2010 8:26       3.39     17850.0  United Kingdom  "
      ]
     },
     "execution_count": 4,
     "metadata": {},
     "output_type": "execute_result"
    }
   ],
   "source": [
    "original_data = pd.read_csv(\"e_commerce.csv\")\n",
    "original_data.head()"
   ]
  },
  {
   "cell_type": "markdown",
   "metadata": {
    "id": "ON1tGjzWV1rg"
   },
   "source": [
    "## 評估數據"
   ]
  },
  {
   "cell_type": "markdown",
   "metadata": {
    "id": "lmZ5edK-eMn3"
   },
   "source": [
    "###評估數據整齊度"
   ]
  },
  {
   "cell_type": "code",
   "execution_count": 5,
   "metadata": {
    "colab": {
     "base_uri": "https://localhost:8080/",
     "height": 536
    },
    "executionInfo": {
     "elapsed": 61,
     "status": "ok",
     "timestamp": 1759465664005,
     "user": {
      "displayName": "Derek Un",
      "userId": "04159970689370047912"
     },
     "user_tz": -480
    },
    "id": "0adyjMTUV1rg",
    "outputId": "1dfff95b-64c3-4e59-ec12-f0f43492567c"
   },
   "outputs": [
    {
     "data": {
      "text/html": [
       "<div>\n",
       "<style scoped>\n",
       "    .dataframe tbody tr th:only-of-type {\n",
       "        vertical-align: middle;\n",
       "    }\n",
       "\n",
       "    .dataframe tbody tr th {\n",
       "        vertical-align: top;\n",
       "    }\n",
       "\n",
       "    .dataframe thead th {\n",
       "        text-align: right;\n",
       "    }\n",
       "</style>\n",
       "<table border=\"1\" class=\"dataframe\">\n",
       "  <thead>\n",
       "    <tr style=\"text-align: right;\">\n",
       "      <th></th>\n",
       "      <th>InvoiceNo</th>\n",
       "      <th>StockCode</th>\n",
       "      <th>Description</th>\n",
       "      <th>Quantity</th>\n",
       "      <th>InvoiceDate</th>\n",
       "      <th>UnitPrice</th>\n",
       "      <th>CustomerID</th>\n",
       "      <th>Country</th>\n",
       "    </tr>\n",
       "  </thead>\n",
       "  <tbody>\n",
       "    <tr>\n",
       "      <th>137208</th>\n",
       "      <td>548148</td>\n",
       "      <td>22721</td>\n",
       "      <td>SET OF 3 CAKE TINS SKETCHBOOK</td>\n",
       "      <td>1</td>\n",
       "      <td>3/29/2011 12:31</td>\n",
       "      <td>4.95</td>\n",
       "      <td>17931.0</td>\n",
       "      <td>United Kingdom</td>\n",
       "    </tr>\n",
       "    <tr>\n",
       "      <th>492110</th>\n",
       "      <td>578088</td>\n",
       "      <td>21744</td>\n",
       "      <td>SNOWFLAKE PORTABLE TABLE LIGHT</td>\n",
       "      <td>3</td>\n",
       "      <td>11/22/2011 16:47</td>\n",
       "      <td>2.95</td>\n",
       "      <td>16376.0</td>\n",
       "      <td>United Kingdom</td>\n",
       "    </tr>\n",
       "    <tr>\n",
       "      <th>510619</th>\n",
       "      <td>579459</td>\n",
       "      <td>21108</td>\n",
       "      <td>FAIRY CAKE FLANNEL ASSORTED COLOUR</td>\n",
       "      <td>27</td>\n",
       "      <td>11/29/2011 14:38</td>\n",
       "      <td>2.10</td>\n",
       "      <td>17173.0</td>\n",
       "      <td>United Kingdom</td>\n",
       "    </tr>\n",
       "    <tr>\n",
       "      <th>134935</th>\n",
       "      <td>547872</td>\n",
       "      <td>22631</td>\n",
       "      <td>CIRCUS PARADE LUNCH BOX</td>\n",
       "      <td>1</td>\n",
       "      <td>3/27/2011 14:34</td>\n",
       "      <td>1.95</td>\n",
       "      <td>16777.0</td>\n",
       "      <td>United Kingdom</td>\n",
       "    </tr>\n",
       "    <tr>\n",
       "      <th>419892</th>\n",
       "      <td>572862</td>\n",
       "      <td>23356</td>\n",
       "      <td>LOVE HOT WATER BOTTLE</td>\n",
       "      <td>1</td>\n",
       "      <td>10/26/2011 12:48</td>\n",
       "      <td>5.95</td>\n",
       "      <td>16750.0</td>\n",
       "      <td>United Kingdom</td>\n",
       "    </tr>\n",
       "    <tr>\n",
       "      <th>43272</th>\n",
       "      <td>540026</td>\n",
       "      <td>84849B</td>\n",
       "      <td>FAIRY SOAP SOAP HOLDER</td>\n",
       "      <td>1</td>\n",
       "      <td>1/4/2011 13:25</td>\n",
       "      <td>3.36</td>\n",
       "      <td>NaN</td>\n",
       "      <td>United Kingdom</td>\n",
       "    </tr>\n",
       "    <tr>\n",
       "      <th>52700</th>\n",
       "      <td>540813</td>\n",
       "      <td>22470</td>\n",
       "      <td>HEART OF WICKER LARGE</td>\n",
       "      <td>2</td>\n",
       "      <td>1/11/2011 12:41</td>\n",
       "      <td>2.95</td>\n",
       "      <td>14669.0</td>\n",
       "      <td>United Kingdom</td>\n",
       "    </tr>\n",
       "    <tr>\n",
       "      <th>9989</th>\n",
       "      <td>537224</td>\n",
       "      <td>22766</td>\n",
       "      <td>PHOTO FRAME CORNICE</td>\n",
       "      <td>4</td>\n",
       "      <td>12/5/2010 16:24</td>\n",
       "      <td>2.95</td>\n",
       "      <td>13174.0</td>\n",
       "      <td>United Kingdom</td>\n",
       "    </tr>\n",
       "    <tr>\n",
       "      <th>530750</th>\n",
       "      <td>580880</td>\n",
       "      <td>21579</td>\n",
       "      <td>LOLITA  DESIGN  COTTON TOTE BAG</td>\n",
       "      <td>12</td>\n",
       "      <td>12/6/2011 12:19</td>\n",
       "      <td>2.25</td>\n",
       "      <td>14121.0</td>\n",
       "      <td>United Kingdom</td>\n",
       "    </tr>\n",
       "    <tr>\n",
       "      <th>82159</th>\n",
       "      <td>543191</td>\n",
       "      <td>21124</td>\n",
       "      <td>SET/10 BLUE POLKADOT PARTY CANDLES</td>\n",
       "      <td>3</td>\n",
       "      <td>2/4/2011 11:54</td>\n",
       "      <td>1.25</td>\n",
       "      <td>13137.0</td>\n",
       "      <td>United Kingdom</td>\n",
       "    </tr>\n",
       "  </tbody>\n",
       "</table>\n",
       "</div>"
      ],
      "text/plain": [
       "       InvoiceNo StockCode                         Description  Quantity  \\\n",
       "137208    548148     22721       SET OF 3 CAKE TINS SKETCHBOOK         1   \n",
       "492110    578088     21744     SNOWFLAKE PORTABLE TABLE LIGHT          3   \n",
       "510619    579459     21108  FAIRY CAKE FLANNEL ASSORTED COLOUR        27   \n",
       "134935    547872     22631            CIRCUS PARADE LUNCH BOX          1   \n",
       "419892    572862     23356               LOVE HOT WATER BOTTLE         1   \n",
       "43272     540026    84849B              FAIRY SOAP SOAP HOLDER         1   \n",
       "52700     540813     22470               HEART OF WICKER LARGE         2   \n",
       "9989      537224     22766                 PHOTO FRAME CORNICE         4   \n",
       "530750    580880     21579     LOLITA  DESIGN  COTTON TOTE BAG        12   \n",
       "82159     543191     21124  SET/10 BLUE POLKADOT PARTY CANDLES         3   \n",
       "\n",
       "             InvoiceDate  UnitPrice  CustomerID         Country  \n",
       "137208   3/29/2011 12:31       4.95     17931.0  United Kingdom  \n",
       "492110  11/22/2011 16:47       2.95     16376.0  United Kingdom  \n",
       "510619  11/29/2011 14:38       2.10     17173.0  United Kingdom  \n",
       "134935   3/27/2011 14:34       1.95     16777.0  United Kingdom  \n",
       "419892  10/26/2011 12:48       5.95     16750.0  United Kingdom  \n",
       "43272     1/4/2011 13:25       3.36         NaN  United Kingdom  \n",
       "52700    1/11/2011 12:41       2.95     14669.0  United Kingdom  \n",
       "9989     12/5/2010 16:24       2.95     13174.0  United Kingdom  \n",
       "530750   12/6/2011 12:19       2.25     14121.0  United Kingdom  \n",
       "82159     2/4/2011 11:54       1.25     13137.0  United Kingdom  "
      ]
     },
     "execution_count": 5,
     "metadata": {},
     "output_type": "execute_result"
    }
   ],
   "source": [
    "original_data.sample(10)"
   ]
  },
  {
   "cell_type": "markdown",
   "metadata": {
    "id": "dtsREC_Oe03q"
   },
   "source": [
    "抽樣10行數據符合\"每列一個變量，每行一個觀察值，每個單元格是一個值\"，具體來看每行是關於某商品的一次交易，每列是交易相關的各個變量，因此不存在結構性問題。"
   ]
  },
  {
   "cell_type": "markdown",
   "metadata": {
    "id": "cf5jFNY5f6Jq"
   },
   "source": [
    "###評估數據乾淨度"
   ]
  },
  {
   "cell_type": "code",
   "execution_count": 6,
   "metadata": {
    "colab": {
     "base_uri": "https://localhost:8080/"
    },
    "executionInfo": {
     "elapsed": 102,
     "status": "ok",
     "timestamp": 1759465664109,
     "user": {
      "displayName": "Derek Un",
      "userId": "04159970689370047912"
     },
     "user_tz": -480
    },
    "id": "MRLLE1fUgHDB",
    "outputId": "ac1a8c31-6a59-47eb-a661-f626e4a1d0a4"
   },
   "outputs": [
    {
     "name": "stdout",
     "output_type": "stream",
     "text": [
      "<class 'pandas.core.frame.DataFrame'>\n",
      "RangeIndex: 541909 entries, 0 to 541908\n",
      "Data columns (total 8 columns):\n",
      " #   Column       Non-Null Count   Dtype  \n",
      "---  ------       --------------   -----  \n",
      " 0   InvoiceNo    541909 non-null  object \n",
      " 1   StockCode    541909 non-null  object \n",
      " 2   Description  540455 non-null  object \n",
      " 3   Quantity     541909 non-null  int64  \n",
      " 4   InvoiceDate  541909 non-null  object \n",
      " 5   UnitPrice    541909 non-null  float64\n",
      " 6   CustomerID   406829 non-null  float64\n",
      " 7   Country      541909 non-null  object \n",
      "dtypes: float64(2), int64(1), object(5)\n",
      "memory usage: 33.1+ MB\n"
     ]
    }
   ],
   "source": [
    "original_data.info()"
   ]
  },
  {
   "cell_type": "markdown",
   "metadata": {
    "id": "TjKPkY_bgcue"
   },
   "source": [
    "數據總共有541909行`(\"541909 entries\")`\n",
    "\n",
    "`Description`,`CustomerID`有缺失值(不等於總行數)\n",
    "\n",
    "`InvoiceDate`數據類型應為日期，`CustomerID`數據類型為字符串"
   ]
  },
  {
   "cell_type": "markdown",
   "metadata": {
    "id": "cd6RFXQ4iZd8"
   },
   "source": [
    "###評估缺失數據"
   ]
  },
  {
   "cell_type": "code",
   "execution_count": 7,
   "metadata": {
    "colab": {
     "base_uri": "https://localhost:8080/",
     "height": 423
    },
    "executionInfo": {
     "elapsed": 56,
     "status": "ok",
     "timestamp": 1759465664188,
     "user": {
      "displayName": "Derek Un",
      "userId": "04159970689370047912"
     },
     "user_tz": -480
    },
    "id": "CILjRluYigvB",
    "outputId": "1272514f-2168-4cdd-e541-0bcbd0af02d8"
   },
   "outputs": [
    {
     "data": {
      "text/html": [
       "<div>\n",
       "<style scoped>\n",
       "    .dataframe tbody tr th:only-of-type {\n",
       "        vertical-align: middle;\n",
       "    }\n",
       "\n",
       "    .dataframe tbody tr th {\n",
       "        vertical-align: top;\n",
       "    }\n",
       "\n",
       "    .dataframe thead th {\n",
       "        text-align: right;\n",
       "    }\n",
       "</style>\n",
       "<table border=\"1\" class=\"dataframe\">\n",
       "  <thead>\n",
       "    <tr style=\"text-align: right;\">\n",
       "      <th></th>\n",
       "      <th>InvoiceNo</th>\n",
       "      <th>StockCode</th>\n",
       "      <th>Description</th>\n",
       "      <th>Quantity</th>\n",
       "      <th>InvoiceDate</th>\n",
       "      <th>UnitPrice</th>\n",
       "      <th>CustomerID</th>\n",
       "      <th>Country</th>\n",
       "    </tr>\n",
       "  </thead>\n",
       "  <tbody>\n",
       "    <tr>\n",
       "      <th>622</th>\n",
       "      <td>536414</td>\n",
       "      <td>22139</td>\n",
       "      <td>NaN</td>\n",
       "      <td>56</td>\n",
       "      <td>12/1/2010 11:52</td>\n",
       "      <td>0.0</td>\n",
       "      <td>NaN</td>\n",
       "      <td>United Kingdom</td>\n",
       "    </tr>\n",
       "    <tr>\n",
       "      <th>1970</th>\n",
       "      <td>536545</td>\n",
       "      <td>21134</td>\n",
       "      <td>NaN</td>\n",
       "      <td>1</td>\n",
       "      <td>12/1/2010 14:32</td>\n",
       "      <td>0.0</td>\n",
       "      <td>NaN</td>\n",
       "      <td>United Kingdom</td>\n",
       "    </tr>\n",
       "    <tr>\n",
       "      <th>1971</th>\n",
       "      <td>536546</td>\n",
       "      <td>22145</td>\n",
       "      <td>NaN</td>\n",
       "      <td>1</td>\n",
       "      <td>12/1/2010 14:33</td>\n",
       "      <td>0.0</td>\n",
       "      <td>NaN</td>\n",
       "      <td>United Kingdom</td>\n",
       "    </tr>\n",
       "    <tr>\n",
       "      <th>1972</th>\n",
       "      <td>536547</td>\n",
       "      <td>37509</td>\n",
       "      <td>NaN</td>\n",
       "      <td>1</td>\n",
       "      <td>12/1/2010 14:33</td>\n",
       "      <td>0.0</td>\n",
       "      <td>NaN</td>\n",
       "      <td>United Kingdom</td>\n",
       "    </tr>\n",
       "    <tr>\n",
       "      <th>1987</th>\n",
       "      <td>536549</td>\n",
       "      <td>85226A</td>\n",
       "      <td>NaN</td>\n",
       "      <td>1</td>\n",
       "      <td>12/1/2010 14:34</td>\n",
       "      <td>0.0</td>\n",
       "      <td>NaN</td>\n",
       "      <td>United Kingdom</td>\n",
       "    </tr>\n",
       "    <tr>\n",
       "      <th>...</th>\n",
       "      <td>...</td>\n",
       "      <td>...</td>\n",
       "      <td>...</td>\n",
       "      <td>...</td>\n",
       "      <td>...</td>\n",
       "      <td>...</td>\n",
       "      <td>...</td>\n",
       "      <td>...</td>\n",
       "    </tr>\n",
       "    <tr>\n",
       "      <th>535322</th>\n",
       "      <td>581199</td>\n",
       "      <td>84581</td>\n",
       "      <td>NaN</td>\n",
       "      <td>-2</td>\n",
       "      <td>12/7/2011 18:26</td>\n",
       "      <td>0.0</td>\n",
       "      <td>NaN</td>\n",
       "      <td>United Kingdom</td>\n",
       "    </tr>\n",
       "    <tr>\n",
       "      <th>535326</th>\n",
       "      <td>581203</td>\n",
       "      <td>23406</td>\n",
       "      <td>NaN</td>\n",
       "      <td>15</td>\n",
       "      <td>12/7/2011 18:31</td>\n",
       "      <td>0.0</td>\n",
       "      <td>NaN</td>\n",
       "      <td>United Kingdom</td>\n",
       "    </tr>\n",
       "    <tr>\n",
       "      <th>535332</th>\n",
       "      <td>581209</td>\n",
       "      <td>21620</td>\n",
       "      <td>NaN</td>\n",
       "      <td>6</td>\n",
       "      <td>12/7/2011 18:35</td>\n",
       "      <td>0.0</td>\n",
       "      <td>NaN</td>\n",
       "      <td>United Kingdom</td>\n",
       "    </tr>\n",
       "    <tr>\n",
       "      <th>536981</th>\n",
       "      <td>581234</td>\n",
       "      <td>72817</td>\n",
       "      <td>NaN</td>\n",
       "      <td>27</td>\n",
       "      <td>12/8/2011 10:33</td>\n",
       "      <td>0.0</td>\n",
       "      <td>NaN</td>\n",
       "      <td>United Kingdom</td>\n",
       "    </tr>\n",
       "    <tr>\n",
       "      <th>538554</th>\n",
       "      <td>581408</td>\n",
       "      <td>85175</td>\n",
       "      <td>NaN</td>\n",
       "      <td>20</td>\n",
       "      <td>12/8/2011 14:06</td>\n",
       "      <td>0.0</td>\n",
       "      <td>NaN</td>\n",
       "      <td>United Kingdom</td>\n",
       "    </tr>\n",
       "  </tbody>\n",
       "</table>\n",
       "<p>1454 rows × 8 columns</p>\n",
       "</div>"
      ],
      "text/plain": [
       "       InvoiceNo StockCode Description  Quantity      InvoiceDate  UnitPrice  \\\n",
       "622       536414     22139         NaN        56  12/1/2010 11:52        0.0   \n",
       "1970      536545     21134         NaN         1  12/1/2010 14:32        0.0   \n",
       "1971      536546     22145         NaN         1  12/1/2010 14:33        0.0   \n",
       "1972      536547     37509         NaN         1  12/1/2010 14:33        0.0   \n",
       "1987      536549    85226A         NaN         1  12/1/2010 14:34        0.0   \n",
       "...          ...       ...         ...       ...              ...        ...   \n",
       "535322    581199     84581         NaN        -2  12/7/2011 18:26        0.0   \n",
       "535326    581203     23406         NaN        15  12/7/2011 18:31        0.0   \n",
       "535332    581209     21620         NaN         6  12/7/2011 18:35        0.0   \n",
       "536981    581234     72817         NaN        27  12/8/2011 10:33        0.0   \n",
       "538554    581408     85175         NaN        20  12/8/2011 14:06        0.0   \n",
       "\n",
       "        CustomerID         Country  \n",
       "622            NaN  United Kingdom  \n",
       "1970           NaN  United Kingdom  \n",
       "1971           NaN  United Kingdom  \n",
       "1972           NaN  United Kingdom  \n",
       "1987           NaN  United Kingdom  \n",
       "...            ...             ...  \n",
       "535322         NaN  United Kingdom  \n",
       "535326         NaN  United Kingdom  \n",
       "535332         NaN  United Kingdom  \n",
       "536981         NaN  United Kingdom  \n",
       "538554         NaN  United Kingdom  \n",
       "\n",
       "[1454 rows x 8 columns]"
      ]
     },
     "execution_count": 7,
     "metadata": {},
     "output_type": "execute_result"
    }
   ],
   "source": [
    "original_data[original_data[\"Description\"].isnull()] ### 了解Description存在缺失值後，根據條件提取出缺失觀察值；有1454行是空值"
   ]
  },
  {
   "cell_type": "markdown",
   "metadata": {
    "id": "QVF4FpZ9lqSd"
   },
   "source": [
    "`UnitPrice`為0，為了驗證是否存在`Description`變量缺失且`UnitPrice`不為0的數據"
   ]
  },
  {
   "cell_type": "code",
   "execution_count": 8,
   "metadata": {
    "colab": {
     "base_uri": "https://localhost:8080/",
     "height": 53
    },
    "executionInfo": {
     "elapsed": 41,
     "status": "ok",
     "timestamp": 1759465664232,
     "user": {
      "displayName": "Derek Un",
      "userId": "04159970689370047912"
     },
     "user_tz": -480
    },
    "id": "swALxWjpmTyo",
    "outputId": "8aa40b8f-0b06-4f95-cdfa-5fb1611bf393"
   },
   "outputs": [
    {
     "data": {
      "text/html": [
       "<div>\n",
       "<style scoped>\n",
       "    .dataframe tbody tr th:only-of-type {\n",
       "        vertical-align: middle;\n",
       "    }\n",
       "\n",
       "    .dataframe tbody tr th {\n",
       "        vertical-align: top;\n",
       "    }\n",
       "\n",
       "    .dataframe thead th {\n",
       "        text-align: right;\n",
       "    }\n",
       "</style>\n",
       "<table border=\"1\" class=\"dataframe\">\n",
       "  <thead>\n",
       "    <tr style=\"text-align: right;\">\n",
       "      <th></th>\n",
       "      <th>InvoiceNo</th>\n",
       "      <th>StockCode</th>\n",
       "      <th>Description</th>\n",
       "      <th>Quantity</th>\n",
       "      <th>InvoiceDate</th>\n",
       "      <th>UnitPrice</th>\n",
       "      <th>CustomerID</th>\n",
       "      <th>Country</th>\n",
       "    </tr>\n",
       "  </thead>\n",
       "  <tbody>\n",
       "  </tbody>\n",
       "</table>\n",
       "</div>"
      ],
      "text/plain": [
       "Empty DataFrame\n",
       "Columns: [InvoiceNo, StockCode, Description, Quantity, InvoiceDate, UnitPrice, CustomerID, Country]\n",
       "Index: []"
      ]
     },
     "execution_count": 8,
     "metadata": {},
     "output_type": "execute_result"
    }
   ],
   "source": [
    "original_data[(original_data[\"Description\"].isnull()) & (original_data[\"UnitPrice\"]!= 0)]"
   ]
  },
  {
   "cell_type": "markdown",
   "metadata": {
    "id": "ixpfn1M8nnr5"
   },
   "source": [
    "結果發現`Description`為空值，`UnitPrice`都為0；此外，分析目標要找出暢銷產品，因此缺少關鍵數據的部分可以刪除，以便後續的數據分析"
   ]
  },
  {
   "cell_type": "code",
   "execution_count": 9,
   "metadata": {
    "colab": {
     "base_uri": "https://localhost:8080/",
     "height": 597
    },
    "executionInfo": {
     "elapsed": 23,
     "status": "ok",
     "timestamp": 1759465664257,
     "user": {
      "displayName": "Derek Un",
      "userId": "04159970689370047912"
     },
     "user_tz": -480
    },
    "id": "YHVSccEmKqpJ",
    "outputId": "21278170-5fcd-4242-d2b3-ab115de191ed"
   },
   "outputs": [
    {
     "data": {
      "text/html": [
       "<div>\n",
       "<style scoped>\n",
       "    .dataframe tbody tr th:only-of-type {\n",
       "        vertical-align: middle;\n",
       "    }\n",
       "\n",
       "    .dataframe tbody tr th {\n",
       "        vertical-align: top;\n",
       "    }\n",
       "\n",
       "    .dataframe thead th {\n",
       "        text-align: right;\n",
       "    }\n",
       "</style>\n",
       "<table border=\"1\" class=\"dataframe\">\n",
       "  <thead>\n",
       "    <tr style=\"text-align: right;\">\n",
       "      <th></th>\n",
       "      <th>InvoiceNo</th>\n",
       "      <th>StockCode</th>\n",
       "      <th>Description</th>\n",
       "      <th>Quantity</th>\n",
       "      <th>InvoiceDate</th>\n",
       "      <th>UnitPrice</th>\n",
       "      <th>CustomerID</th>\n",
       "      <th>Country</th>\n",
       "    </tr>\n",
       "  </thead>\n",
       "  <tbody>\n",
       "    <tr>\n",
       "      <th>622</th>\n",
       "      <td>536414</td>\n",
       "      <td>22139</td>\n",
       "      <td>NaN</td>\n",
       "      <td>56</td>\n",
       "      <td>12/1/2010 11:52</td>\n",
       "      <td>0.00</td>\n",
       "      <td>NaN</td>\n",
       "      <td>United Kingdom</td>\n",
       "    </tr>\n",
       "    <tr>\n",
       "      <th>1443</th>\n",
       "      <td>536544</td>\n",
       "      <td>21773</td>\n",
       "      <td>DECORATIVE ROSE BATHROOM BOTTLE</td>\n",
       "      <td>1</td>\n",
       "      <td>12/1/2010 14:32</td>\n",
       "      <td>2.51</td>\n",
       "      <td>NaN</td>\n",
       "      <td>United Kingdom</td>\n",
       "    </tr>\n",
       "    <tr>\n",
       "      <th>1444</th>\n",
       "      <td>536544</td>\n",
       "      <td>21774</td>\n",
       "      <td>DECORATIVE CATS BATHROOM BOTTLE</td>\n",
       "      <td>2</td>\n",
       "      <td>12/1/2010 14:32</td>\n",
       "      <td>2.51</td>\n",
       "      <td>NaN</td>\n",
       "      <td>United Kingdom</td>\n",
       "    </tr>\n",
       "    <tr>\n",
       "      <th>1445</th>\n",
       "      <td>536544</td>\n",
       "      <td>21786</td>\n",
       "      <td>POLKADOT RAIN HAT</td>\n",
       "      <td>4</td>\n",
       "      <td>12/1/2010 14:32</td>\n",
       "      <td>0.85</td>\n",
       "      <td>NaN</td>\n",
       "      <td>United Kingdom</td>\n",
       "    </tr>\n",
       "    <tr>\n",
       "      <th>1446</th>\n",
       "      <td>536544</td>\n",
       "      <td>21787</td>\n",
       "      <td>RAIN PONCHO RETROSPOT</td>\n",
       "      <td>2</td>\n",
       "      <td>12/1/2010 14:32</td>\n",
       "      <td>1.66</td>\n",
       "      <td>NaN</td>\n",
       "      <td>United Kingdom</td>\n",
       "    </tr>\n",
       "    <tr>\n",
       "      <th>...</th>\n",
       "      <td>...</td>\n",
       "      <td>...</td>\n",
       "      <td>...</td>\n",
       "      <td>...</td>\n",
       "      <td>...</td>\n",
       "      <td>...</td>\n",
       "      <td>...</td>\n",
       "      <td>...</td>\n",
       "    </tr>\n",
       "    <tr>\n",
       "      <th>541536</th>\n",
       "      <td>581498</td>\n",
       "      <td>85099B</td>\n",
       "      <td>JUMBO BAG RED RETROSPOT</td>\n",
       "      <td>5</td>\n",
       "      <td>12/9/2011 10:26</td>\n",
       "      <td>4.13</td>\n",
       "      <td>NaN</td>\n",
       "      <td>United Kingdom</td>\n",
       "    </tr>\n",
       "    <tr>\n",
       "      <th>541537</th>\n",
       "      <td>581498</td>\n",
       "      <td>85099C</td>\n",
       "      <td>JUMBO  BAG BAROQUE BLACK WHITE</td>\n",
       "      <td>4</td>\n",
       "      <td>12/9/2011 10:26</td>\n",
       "      <td>4.13</td>\n",
       "      <td>NaN</td>\n",
       "      <td>United Kingdom</td>\n",
       "    </tr>\n",
       "    <tr>\n",
       "      <th>541538</th>\n",
       "      <td>581498</td>\n",
       "      <td>85150</td>\n",
       "      <td>LADIES &amp; GENTLEMEN METAL SIGN</td>\n",
       "      <td>1</td>\n",
       "      <td>12/9/2011 10:26</td>\n",
       "      <td>4.96</td>\n",
       "      <td>NaN</td>\n",
       "      <td>United Kingdom</td>\n",
       "    </tr>\n",
       "    <tr>\n",
       "      <th>541539</th>\n",
       "      <td>581498</td>\n",
       "      <td>85174</td>\n",
       "      <td>S/4 CACTI CANDLES</td>\n",
       "      <td>1</td>\n",
       "      <td>12/9/2011 10:26</td>\n",
       "      <td>10.79</td>\n",
       "      <td>NaN</td>\n",
       "      <td>United Kingdom</td>\n",
       "    </tr>\n",
       "    <tr>\n",
       "      <th>541540</th>\n",
       "      <td>581498</td>\n",
       "      <td>DOT</td>\n",
       "      <td>DOTCOM POSTAGE</td>\n",
       "      <td>1</td>\n",
       "      <td>12/9/2011 10:26</td>\n",
       "      <td>1714.17</td>\n",
       "      <td>NaN</td>\n",
       "      <td>United Kingdom</td>\n",
       "    </tr>\n",
       "  </tbody>\n",
       "</table>\n",
       "<p>135080 rows × 8 columns</p>\n",
       "</div>"
      ],
      "text/plain": [
       "       InvoiceNo StockCode                      Description  Quantity  \\\n",
       "622       536414     22139                              NaN        56   \n",
       "1443      536544     21773  DECORATIVE ROSE BATHROOM BOTTLE         1   \n",
       "1444      536544     21774  DECORATIVE CATS BATHROOM BOTTLE         2   \n",
       "1445      536544     21786               POLKADOT RAIN HAT          4   \n",
       "1446      536544     21787            RAIN PONCHO RETROSPOT         2   \n",
       "...          ...       ...                              ...       ...   \n",
       "541536    581498    85099B          JUMBO BAG RED RETROSPOT         5   \n",
       "541537    581498    85099C   JUMBO  BAG BAROQUE BLACK WHITE         4   \n",
       "541538    581498     85150    LADIES & GENTLEMEN METAL SIGN         1   \n",
       "541539    581498     85174                S/4 CACTI CANDLES         1   \n",
       "541540    581498       DOT                   DOTCOM POSTAGE         1   \n",
       "\n",
       "            InvoiceDate  UnitPrice  CustomerID         Country  \n",
       "622     12/1/2010 11:52       0.00         NaN  United Kingdom  \n",
       "1443    12/1/2010 14:32       2.51         NaN  United Kingdom  \n",
       "1444    12/1/2010 14:32       2.51         NaN  United Kingdom  \n",
       "1445    12/1/2010 14:32       0.85         NaN  United Kingdom  \n",
       "1446    12/1/2010 14:32       1.66         NaN  United Kingdom  \n",
       "...                 ...        ...         ...             ...  \n",
       "541536  12/9/2011 10:26       4.13         NaN  United Kingdom  \n",
       "541537  12/9/2011 10:26       4.13         NaN  United Kingdom  \n",
       "541538  12/9/2011 10:26       4.96         NaN  United Kingdom  \n",
       "541539  12/9/2011 10:26      10.79         NaN  United Kingdom  \n",
       "541540  12/9/2011 10:26    1714.17         NaN  United Kingdom  \n",
       "\n",
       "[135080 rows x 8 columns]"
      ]
     },
     "execution_count": 9,
     "metadata": {},
     "output_type": "execute_result"
    }
   ],
   "source": [
    "original_data[original_data[\"CustomerID\"].isnull()]"
   ]
  },
  {
   "cell_type": "markdown",
   "metadata": {
    "id": "9RBeO6MzMl2P"
   },
   "source": [
    "`CustomerID`不是必要分析的重要數據，並且`CustomerID`缺失的其他交易數據仍然有分析價值，所以保留該數據。"
   ]
  },
  {
   "cell_type": "markdown",
   "metadata": {
    "id": "j7q4ptJxNvFJ"
   },
   "source": [
    "###評估重覆數據"
   ]
  },
  {
   "cell_type": "markdown",
   "metadata": {
    "id": "mbDukh0ePBKB"
   },
   "source": [
    "根據資料變數的含義來看，雖然InvoiceNo、StockCode和CustomerID都是唯一識別碼，但一次交易可能包含多件商品，因此InvoiceNo可以存在重複，不同交易可以包含同件商品，因此StockCode可以存在重複，顧客可以進行多次交易或下單多個商品，因此CustomerID也可以存在重複。\n",
    "那麼針對此資料集，我們無需評估重復資料。\n"
   ]
  },
  {
   "cell_type": "markdown",
   "metadata": {
    "id": "YbV6hdEtPMZP"
   },
   "source": [
    "###評估不一致"
   ]
  },
  {
   "cell_type": "code",
   "execution_count": 10,
   "metadata": {
    "colab": {
     "base_uri": "https://localhost:8080/",
     "height": 1000
    },
    "executionInfo": {
     "elapsed": 43,
     "status": "ok",
     "timestamp": 1759465664302,
     "user": {
      "displayName": "Derek Un",
      "userId": "04159970689370047912"
     },
     "user_tz": -480
    },
    "id": "9BJfw0tYPln3",
    "outputId": "e8348351-b4fa-4d8d-939f-09dbc12a67de"
   },
   "outputs": [
    {
     "data": {
      "text/plain": [
       "Country\n",
       "United Kingdom          495266\n",
       "Germany                   9495\n",
       "France                    8557\n",
       "EIRE                      8196\n",
       "Spain                     2533\n",
       "Netherlands               2371\n",
       "Belgium                   2069\n",
       "Switzerland               2002\n",
       "Portugal                  1519\n",
       "Australia                 1259\n",
       "Norway                    1086\n",
       "Italy                      803\n",
       "Channel Islands            758\n",
       "Finland                    695\n",
       "Cyprus                     622\n",
       "Sweden                     462\n",
       "Unspecified                446\n",
       "Austria                    401\n",
       "Denmark                    389\n",
       "Japan                      358\n",
       "Poland                     341\n",
       "Israel                     297\n",
       "China                      288\n",
       "Singapore                  229\n",
       "USA                        218\n",
       "UK                         211\n",
       "Iceland                    182\n",
       "Canada                     151\n",
       "Greece                     146\n",
       "Malta                      127\n",
       "United States               73\n",
       "United Arab Emirates        68\n",
       "European Community          61\n",
       "RSA                         58\n",
       "Lebanon                     45\n",
       "Lithuania                   35\n",
       "Brazil                      32\n",
       "Czech Republic              30\n",
       "Bahrain                     19\n",
       "Saudi Arabia                10\n",
       "U.K.                         1\n",
       "Name: count, dtype: int64"
      ]
     },
     "execution_count": 10,
     "metadata": {},
     "output_type": "execute_result"
    }
   ],
   "source": [
    "original_data[\"Country\"].value_counts()"
   ]
  },
  {
   "cell_type": "markdown",
   "metadata": {
    "id": "vOixH-n2QggF"
   },
   "source": [
    "從`Country`變數值來看，`\"USA\"`、`\"United States\"`均在表示美國，`\"United Kingdom\"`、`\"UK\"`、`\"U.K.\"`均在表示英國，因此應該在清洗步驟對這些值進行統一，只保留一個指代值。"
   ]
  },
  {
   "cell_type": "markdown",
   "metadata": {
    "id": "FRGhD2ahQ5oV"
   },
   "source": [
    "###評估無效或錯誤數據"
   ]
  },
  {
   "cell_type": "markdown",
   "metadata": {
    "id": "RK-xhAZJRPff"
   },
   "source": [
    "可以通過DataFrame的describe方法，對數值統計資訊進行快速瞭解。"
   ]
  },
  {
   "cell_type": "code",
   "execution_count": 11,
   "metadata": {
    "colab": {
     "base_uri": "https://localhost:8080/",
     "height": 300
    },
    "executionInfo": {
     "elapsed": 53,
     "status": "ok",
     "timestamp": 1759465664351,
     "user": {
      "displayName": "Derek Un",
      "userId": "04159970689370047912"
     },
     "user_tz": -480
    },
    "id": "m78bjyYFRMv3",
    "outputId": "4824df88-9126-438d-d902-c56a53b43c95"
   },
   "outputs": [
    {
     "data": {
      "text/html": [
       "<div>\n",
       "<style scoped>\n",
       "    .dataframe tbody tr th:only-of-type {\n",
       "        vertical-align: middle;\n",
       "    }\n",
       "\n",
       "    .dataframe tbody tr th {\n",
       "        vertical-align: top;\n",
       "    }\n",
       "\n",
       "    .dataframe thead th {\n",
       "        text-align: right;\n",
       "    }\n",
       "</style>\n",
       "<table border=\"1\" class=\"dataframe\">\n",
       "  <thead>\n",
       "    <tr style=\"text-align: right;\">\n",
       "      <th></th>\n",
       "      <th>Quantity</th>\n",
       "      <th>UnitPrice</th>\n",
       "      <th>CustomerID</th>\n",
       "    </tr>\n",
       "  </thead>\n",
       "  <tbody>\n",
       "    <tr>\n",
       "      <th>count</th>\n",
       "      <td>541909.000000</td>\n",
       "      <td>541909.000000</td>\n",
       "      <td>406829.000000</td>\n",
       "    </tr>\n",
       "    <tr>\n",
       "      <th>mean</th>\n",
       "      <td>9.552250</td>\n",
       "      <td>4.611114</td>\n",
       "      <td>15287.690570</td>\n",
       "    </tr>\n",
       "    <tr>\n",
       "      <th>std</th>\n",
       "      <td>218.081158</td>\n",
       "      <td>96.759853</td>\n",
       "      <td>1713.600303</td>\n",
       "    </tr>\n",
       "    <tr>\n",
       "      <th>min</th>\n",
       "      <td>-80995.000000</td>\n",
       "      <td>-11062.060000</td>\n",
       "      <td>12346.000000</td>\n",
       "    </tr>\n",
       "    <tr>\n",
       "      <th>25%</th>\n",
       "      <td>1.000000</td>\n",
       "      <td>1.250000</td>\n",
       "      <td>13953.000000</td>\n",
       "    </tr>\n",
       "    <tr>\n",
       "      <th>50%</th>\n",
       "      <td>3.000000</td>\n",
       "      <td>2.080000</td>\n",
       "      <td>15152.000000</td>\n",
       "    </tr>\n",
       "    <tr>\n",
       "      <th>75%</th>\n",
       "      <td>10.000000</td>\n",
       "      <td>4.130000</td>\n",
       "      <td>16791.000000</td>\n",
       "    </tr>\n",
       "    <tr>\n",
       "      <th>max</th>\n",
       "      <td>80995.000000</td>\n",
       "      <td>38970.000000</td>\n",
       "      <td>18287.000000</td>\n",
       "    </tr>\n",
       "  </tbody>\n",
       "</table>\n",
       "</div>"
      ],
      "text/plain": [
       "            Quantity      UnitPrice     CustomerID\n",
       "count  541909.000000  541909.000000  406829.000000\n",
       "mean        9.552250       4.611114   15287.690570\n",
       "std       218.081158      96.759853    1713.600303\n",
       "min    -80995.000000  -11062.060000   12346.000000\n",
       "25%         1.000000       1.250000   13953.000000\n",
       "50%         3.000000       2.080000   15152.000000\n",
       "75%        10.000000       4.130000   16791.000000\n",
       "max     80995.000000   38970.000000   18287.000000"
      ]
     },
     "execution_count": 11,
     "metadata": {},
     "output_type": "execute_result"
    }
   ],
   "source": [
    "original_data.describe()"
   ]
  },
  {
   "cell_type": "markdown",
   "metadata": {
    "id": "BhKi6QcPSpJ0"
   },
   "source": [
    "從輸出結果來看，`Quantity`和`UnitPrice`存在負數，會對後續數值分析產生影響。\n",
    "\n",
    "因此，我們先篩選出`Quantity`數值為負數的觀察值，進一步評估其含義。\n"
   ]
  },
  {
   "cell_type": "code",
   "execution_count": 12,
   "metadata": {
    "colab": {
     "base_uri": "https://localhost:8080/",
     "height": 597
    },
    "executionInfo": {
     "elapsed": 74,
     "status": "ok",
     "timestamp": 1759465664423,
     "user": {
      "displayName": "Derek Un",
      "userId": "04159970689370047912"
     },
     "user_tz": -480
    },
    "id": "8MYw3Du-StOn",
    "outputId": "9bdc226a-0a02-4f3b-f2f9-505bbe9a9861"
   },
   "outputs": [
    {
     "data": {
      "text/html": [
       "<div>\n",
       "<style scoped>\n",
       "    .dataframe tbody tr th:only-of-type {\n",
       "        vertical-align: middle;\n",
       "    }\n",
       "\n",
       "    .dataframe tbody tr th {\n",
       "        vertical-align: top;\n",
       "    }\n",
       "\n",
       "    .dataframe thead th {\n",
       "        text-align: right;\n",
       "    }\n",
       "</style>\n",
       "<table border=\"1\" class=\"dataframe\">\n",
       "  <thead>\n",
       "    <tr style=\"text-align: right;\">\n",
       "      <th></th>\n",
       "      <th>InvoiceNo</th>\n",
       "      <th>StockCode</th>\n",
       "      <th>Description</th>\n",
       "      <th>Quantity</th>\n",
       "      <th>InvoiceDate</th>\n",
       "      <th>UnitPrice</th>\n",
       "      <th>CustomerID</th>\n",
       "      <th>Country</th>\n",
       "    </tr>\n",
       "  </thead>\n",
       "  <tbody>\n",
       "    <tr>\n",
       "      <th>141</th>\n",
       "      <td>C536379</td>\n",
       "      <td>D</td>\n",
       "      <td>Discount</td>\n",
       "      <td>-1</td>\n",
       "      <td>12/1/2010 9:41</td>\n",
       "      <td>27.50</td>\n",
       "      <td>14527.0</td>\n",
       "      <td>United Kingdom</td>\n",
       "    </tr>\n",
       "    <tr>\n",
       "      <th>154</th>\n",
       "      <td>C536383</td>\n",
       "      <td>35004C</td>\n",
       "      <td>SET OF 3 COLOURED  FLYING DUCKS</td>\n",
       "      <td>-1</td>\n",
       "      <td>12/1/2010 9:49</td>\n",
       "      <td>4.65</td>\n",
       "      <td>15311.0</td>\n",
       "      <td>United Kingdom</td>\n",
       "    </tr>\n",
       "    <tr>\n",
       "      <th>235</th>\n",
       "      <td>C536391</td>\n",
       "      <td>22556</td>\n",
       "      <td>PLASTERS IN TIN CIRCUS PARADE</td>\n",
       "      <td>-12</td>\n",
       "      <td>12/1/2010 10:24</td>\n",
       "      <td>1.65</td>\n",
       "      <td>17548.0</td>\n",
       "      <td>United Kingdom</td>\n",
       "    </tr>\n",
       "    <tr>\n",
       "      <th>236</th>\n",
       "      <td>C536391</td>\n",
       "      <td>21984</td>\n",
       "      <td>PACK OF 12 PINK PAISLEY TISSUES</td>\n",
       "      <td>-24</td>\n",
       "      <td>12/1/2010 10:24</td>\n",
       "      <td>0.29</td>\n",
       "      <td>17548.0</td>\n",
       "      <td>United Kingdom</td>\n",
       "    </tr>\n",
       "    <tr>\n",
       "      <th>237</th>\n",
       "      <td>C536391</td>\n",
       "      <td>21983</td>\n",
       "      <td>PACK OF 12 BLUE PAISLEY TISSUES</td>\n",
       "      <td>-24</td>\n",
       "      <td>12/1/2010 10:24</td>\n",
       "      <td>0.29</td>\n",
       "      <td>17548.0</td>\n",
       "      <td>United Kingdom</td>\n",
       "    </tr>\n",
       "    <tr>\n",
       "      <th>...</th>\n",
       "      <td>...</td>\n",
       "      <td>...</td>\n",
       "      <td>...</td>\n",
       "      <td>...</td>\n",
       "      <td>...</td>\n",
       "      <td>...</td>\n",
       "      <td>...</td>\n",
       "      <td>...</td>\n",
       "    </tr>\n",
       "    <tr>\n",
       "      <th>540449</th>\n",
       "      <td>C581490</td>\n",
       "      <td>23144</td>\n",
       "      <td>ZINC T-LIGHT HOLDER STARS SMALL</td>\n",
       "      <td>-11</td>\n",
       "      <td>12/9/2011 9:57</td>\n",
       "      <td>0.83</td>\n",
       "      <td>14397.0</td>\n",
       "      <td>United Kingdom</td>\n",
       "    </tr>\n",
       "    <tr>\n",
       "      <th>541541</th>\n",
       "      <td>C581499</td>\n",
       "      <td>M</td>\n",
       "      <td>Manual</td>\n",
       "      <td>-1</td>\n",
       "      <td>12/9/2011 10:28</td>\n",
       "      <td>224.69</td>\n",
       "      <td>15498.0</td>\n",
       "      <td>United Kingdom</td>\n",
       "    </tr>\n",
       "    <tr>\n",
       "      <th>541715</th>\n",
       "      <td>C581568</td>\n",
       "      <td>21258</td>\n",
       "      <td>VICTORIAN SEWING BOX LARGE</td>\n",
       "      <td>-5</td>\n",
       "      <td>12/9/2011 11:57</td>\n",
       "      <td>10.95</td>\n",
       "      <td>15311.0</td>\n",
       "      <td>United Kingdom</td>\n",
       "    </tr>\n",
       "    <tr>\n",
       "      <th>541716</th>\n",
       "      <td>C581569</td>\n",
       "      <td>84978</td>\n",
       "      <td>HANGING HEART JAR T-LIGHT HOLDER</td>\n",
       "      <td>-1</td>\n",
       "      <td>12/9/2011 11:58</td>\n",
       "      <td>1.25</td>\n",
       "      <td>17315.0</td>\n",
       "      <td>United Kingdom</td>\n",
       "    </tr>\n",
       "    <tr>\n",
       "      <th>541717</th>\n",
       "      <td>C581569</td>\n",
       "      <td>20979</td>\n",
       "      <td>36 PENCILS TUBE RED RETROSPOT</td>\n",
       "      <td>-5</td>\n",
       "      <td>12/9/2011 11:58</td>\n",
       "      <td>1.25</td>\n",
       "      <td>17315.0</td>\n",
       "      <td>United Kingdom</td>\n",
       "    </tr>\n",
       "  </tbody>\n",
       "</table>\n",
       "<p>10624 rows × 8 columns</p>\n",
       "</div>"
      ],
      "text/plain": [
       "       InvoiceNo StockCode                       Description  Quantity  \\\n",
       "141      C536379         D                          Discount        -1   \n",
       "154      C536383    35004C   SET OF 3 COLOURED  FLYING DUCKS        -1   \n",
       "235      C536391     22556    PLASTERS IN TIN CIRCUS PARADE        -12   \n",
       "236      C536391     21984  PACK OF 12 PINK PAISLEY TISSUES        -24   \n",
       "237      C536391     21983  PACK OF 12 BLUE PAISLEY TISSUES        -24   \n",
       "...          ...       ...                               ...       ...   \n",
       "540449   C581490     23144   ZINC T-LIGHT HOLDER STARS SMALL       -11   \n",
       "541541   C581499         M                            Manual        -1   \n",
       "541715   C581568     21258        VICTORIAN SEWING BOX LARGE        -5   \n",
       "541716   C581569     84978  HANGING HEART JAR T-LIGHT HOLDER        -1   \n",
       "541717   C581569     20979     36 PENCILS TUBE RED RETROSPOT        -5   \n",
       "\n",
       "            InvoiceDate  UnitPrice  CustomerID         Country  \n",
       "141      12/1/2010 9:41      27.50     14527.0  United Kingdom  \n",
       "154      12/1/2010 9:49       4.65     15311.0  United Kingdom  \n",
       "235     12/1/2010 10:24       1.65     17548.0  United Kingdom  \n",
       "236     12/1/2010 10:24       0.29     17548.0  United Kingdom  \n",
       "237     12/1/2010 10:24       0.29     17548.0  United Kingdom  \n",
       "...                 ...        ...         ...             ...  \n",
       "540449   12/9/2011 9:57       0.83     14397.0  United Kingdom  \n",
       "541541  12/9/2011 10:28     224.69     15498.0  United Kingdom  \n",
       "541715  12/9/2011 11:57      10.95     15311.0  United Kingdom  \n",
       "541716  12/9/2011 11:58       1.25     17315.0  United Kingdom  \n",
       "541717  12/9/2011 11:58       1.25     17315.0  United Kingdom  \n",
       "\n",
       "[10624 rows x 8 columns]"
      ]
     },
     "execution_count": 12,
     "metadata": {},
     "output_type": "execute_result"
    }
   ],
   "source": [
    "original_data[original_data[\"Quantity\"] < 0]"
   ]
  },
  {
   "cell_type": "markdown",
   "metadata": {
    "id": "5eHuVUshS2X9"
   },
   "source": [
    "從篩選結果來看，Quantity變數為負數的觀察值，InvoiceNo似乎均以C開頭，表示訂單被取消。\n",
    "但此猜測不一定準確，為了驗證猜想，我們增加篩選條件，看是否存在Quantity變數為負數且InvoiceNo不以C開頭的觀察值。\n"
   ]
  },
  {
   "cell_type": "code",
   "execution_count": 13,
   "metadata": {
    "colab": {
     "base_uri": "https://localhost:8080/",
     "height": 423
    },
    "executionInfo": {
     "elapsed": 176,
     "status": "ok",
     "timestamp": 1759465664596,
     "user": {
      "displayName": "Derek Un",
      "userId": "04159970689370047912"
     },
     "user_tz": -480
    },
    "id": "Gp5cAZDDS8ja",
    "outputId": "7030e4d0-ecc9-4bb9-8b06-4c2da5073cbf"
   },
   "outputs": [
    {
     "data": {
      "text/html": [
       "<div>\n",
       "<style scoped>\n",
       "    .dataframe tbody tr th:only-of-type {\n",
       "        vertical-align: middle;\n",
       "    }\n",
       "\n",
       "    .dataframe tbody tr th {\n",
       "        vertical-align: top;\n",
       "    }\n",
       "\n",
       "    .dataframe thead th {\n",
       "        text-align: right;\n",
       "    }\n",
       "</style>\n",
       "<table border=\"1\" class=\"dataframe\">\n",
       "  <thead>\n",
       "    <tr style=\"text-align: right;\">\n",
       "      <th></th>\n",
       "      <th>InvoiceNo</th>\n",
       "      <th>StockCode</th>\n",
       "      <th>Description</th>\n",
       "      <th>Quantity</th>\n",
       "      <th>InvoiceDate</th>\n",
       "      <th>UnitPrice</th>\n",
       "      <th>CustomerID</th>\n",
       "      <th>Country</th>\n",
       "    </tr>\n",
       "  </thead>\n",
       "  <tbody>\n",
       "    <tr>\n",
       "      <th>2406</th>\n",
       "      <td>536589</td>\n",
       "      <td>21777</td>\n",
       "      <td>NaN</td>\n",
       "      <td>-10</td>\n",
       "      <td>12/1/2010 16:50</td>\n",
       "      <td>0.0</td>\n",
       "      <td>NaN</td>\n",
       "      <td>United Kingdom</td>\n",
       "    </tr>\n",
       "    <tr>\n",
       "      <th>4347</th>\n",
       "      <td>536764</td>\n",
       "      <td>84952C</td>\n",
       "      <td>NaN</td>\n",
       "      <td>-38</td>\n",
       "      <td>12/2/2010 14:42</td>\n",
       "      <td>0.0</td>\n",
       "      <td>NaN</td>\n",
       "      <td>United Kingdom</td>\n",
       "    </tr>\n",
       "    <tr>\n",
       "      <th>7188</th>\n",
       "      <td>536996</td>\n",
       "      <td>22712</td>\n",
       "      <td>NaN</td>\n",
       "      <td>-20</td>\n",
       "      <td>12/3/2010 15:30</td>\n",
       "      <td>0.0</td>\n",
       "      <td>NaN</td>\n",
       "      <td>United Kingdom</td>\n",
       "    </tr>\n",
       "    <tr>\n",
       "      <th>7189</th>\n",
       "      <td>536997</td>\n",
       "      <td>22028</td>\n",
       "      <td>NaN</td>\n",
       "      <td>-20</td>\n",
       "      <td>12/3/2010 15:30</td>\n",
       "      <td>0.0</td>\n",
       "      <td>NaN</td>\n",
       "      <td>United Kingdom</td>\n",
       "    </tr>\n",
       "    <tr>\n",
       "      <th>7190</th>\n",
       "      <td>536998</td>\n",
       "      <td>85067</td>\n",
       "      <td>NaN</td>\n",
       "      <td>-6</td>\n",
       "      <td>12/3/2010 15:30</td>\n",
       "      <td>0.0</td>\n",
       "      <td>NaN</td>\n",
       "      <td>United Kingdom</td>\n",
       "    </tr>\n",
       "    <tr>\n",
       "      <th>...</th>\n",
       "      <td>...</td>\n",
       "      <td>...</td>\n",
       "      <td>...</td>\n",
       "      <td>...</td>\n",
       "      <td>...</td>\n",
       "      <td>...</td>\n",
       "      <td>...</td>\n",
       "      <td>...</td>\n",
       "    </tr>\n",
       "    <tr>\n",
       "      <th>535333</th>\n",
       "      <td>581210</td>\n",
       "      <td>23395</td>\n",
       "      <td>check</td>\n",
       "      <td>-26</td>\n",
       "      <td>12/7/2011 18:36</td>\n",
       "      <td>0.0</td>\n",
       "      <td>NaN</td>\n",
       "      <td>United Kingdom</td>\n",
       "    </tr>\n",
       "    <tr>\n",
       "      <th>535335</th>\n",
       "      <td>581212</td>\n",
       "      <td>22578</td>\n",
       "      <td>lost</td>\n",
       "      <td>-1050</td>\n",
       "      <td>12/7/2011 18:38</td>\n",
       "      <td>0.0</td>\n",
       "      <td>NaN</td>\n",
       "      <td>United Kingdom</td>\n",
       "    </tr>\n",
       "    <tr>\n",
       "      <th>535336</th>\n",
       "      <td>581213</td>\n",
       "      <td>22576</td>\n",
       "      <td>check</td>\n",
       "      <td>-30</td>\n",
       "      <td>12/7/2011 18:38</td>\n",
       "      <td>0.0</td>\n",
       "      <td>NaN</td>\n",
       "      <td>United Kingdom</td>\n",
       "    </tr>\n",
       "    <tr>\n",
       "      <th>536908</th>\n",
       "      <td>581226</td>\n",
       "      <td>23090</td>\n",
       "      <td>missing</td>\n",
       "      <td>-338</td>\n",
       "      <td>12/8/2011 9:56</td>\n",
       "      <td>0.0</td>\n",
       "      <td>NaN</td>\n",
       "      <td>United Kingdom</td>\n",
       "    </tr>\n",
       "    <tr>\n",
       "      <th>538919</th>\n",
       "      <td>581422</td>\n",
       "      <td>23169</td>\n",
       "      <td>smashed</td>\n",
       "      <td>-235</td>\n",
       "      <td>12/8/2011 15:24</td>\n",
       "      <td>0.0</td>\n",
       "      <td>NaN</td>\n",
       "      <td>United Kingdom</td>\n",
       "    </tr>\n",
       "  </tbody>\n",
       "</table>\n",
       "<p>1336 rows × 8 columns</p>\n",
       "</div>"
      ],
      "text/plain": [
       "       InvoiceNo StockCode Description  Quantity      InvoiceDate  UnitPrice  \\\n",
       "2406      536589     21777         NaN       -10  12/1/2010 16:50        0.0   \n",
       "4347      536764    84952C         NaN       -38  12/2/2010 14:42        0.0   \n",
       "7188      536996     22712         NaN       -20  12/3/2010 15:30        0.0   \n",
       "7189      536997     22028         NaN       -20  12/3/2010 15:30        0.0   \n",
       "7190      536998     85067         NaN        -6  12/3/2010 15:30        0.0   \n",
       "...          ...       ...         ...       ...              ...        ...   \n",
       "535333    581210     23395       check       -26  12/7/2011 18:36        0.0   \n",
       "535335    581212     22578        lost     -1050  12/7/2011 18:38        0.0   \n",
       "535336    581213     22576       check       -30  12/7/2011 18:38        0.0   \n",
       "536908    581226     23090     missing      -338   12/8/2011 9:56        0.0   \n",
       "538919    581422     23169     smashed      -235  12/8/2011 15:24        0.0   \n",
       "\n",
       "        CustomerID         Country  \n",
       "2406           NaN  United Kingdom  \n",
       "4347           NaN  United Kingdom  \n",
       "7188           NaN  United Kingdom  \n",
       "7189           NaN  United Kingdom  \n",
       "7190           NaN  United Kingdom  \n",
       "...            ...             ...  \n",
       "535333         NaN  United Kingdom  \n",
       "535335         NaN  United Kingdom  \n",
       "535336         NaN  United Kingdom  \n",
       "536908         NaN  United Kingdom  \n",
       "538919         NaN  United Kingdom  \n",
       "\n",
       "[1336 rows x 8 columns]"
      ]
     },
     "execution_count": 13,
     "metadata": {},
     "output_type": "execute_result"
    }
   ],
   "source": [
    "original_data[(original_data[\"Quantity\"] < 0) & (original_data[\"InvoiceNo\"].str[0] != \"C\")]"
   ]
  },
  {
   "cell_type": "markdown",
   "metadata": {
    "id": "Gwz28LF4TY4o"
   },
   "source": [
    "\"str[0] != \"C\" \"指我們要找出\"InvoiceNo\"這一列沒有C開頭的數據"
   ]
  },
  {
   "cell_type": "markdown",
   "metadata": {
    "id": "71quMxxdUArc"
   },
   "source": [
    "以上猜想被證實錯誤，因為還存在Quantity變數為負數且InvoiceNo不以C開頭的觀察值。\n",
    "但根據以上輸出結果，這些篩選出的觀察值的UnitPrice觀察值均為0，因此增加UnitPrice的條件進行驗證。\n"
   ]
  },
  {
   "cell_type": "code",
   "execution_count": 14,
   "metadata": {
    "colab": {
     "base_uri": "https://localhost:8080/",
     "height": 53
    },
    "executionInfo": {
     "elapsed": 157,
     "status": "ok",
     "timestamp": 1759465664750,
     "user": {
      "displayName": "Derek Un",
      "userId": "04159970689370047912"
     },
     "user_tz": -480
    },
    "id": "RCdZnerdUC3N",
    "outputId": "128d4dd2-8b16-4149-f69f-b369b9f5a29b"
   },
   "outputs": [
    {
     "data": {
      "text/html": [
       "<div>\n",
       "<style scoped>\n",
       "    .dataframe tbody tr th:only-of-type {\n",
       "        vertical-align: middle;\n",
       "    }\n",
       "\n",
       "    .dataframe tbody tr th {\n",
       "        vertical-align: top;\n",
       "    }\n",
       "\n",
       "    .dataframe thead th {\n",
       "        text-align: right;\n",
       "    }\n",
       "</style>\n",
       "<table border=\"1\" class=\"dataframe\">\n",
       "  <thead>\n",
       "    <tr style=\"text-align: right;\">\n",
       "      <th></th>\n",
       "      <th>InvoiceNo</th>\n",
       "      <th>StockCode</th>\n",
       "      <th>Description</th>\n",
       "      <th>Quantity</th>\n",
       "      <th>InvoiceDate</th>\n",
       "      <th>UnitPrice</th>\n",
       "      <th>CustomerID</th>\n",
       "      <th>Country</th>\n",
       "    </tr>\n",
       "  </thead>\n",
       "  <tbody>\n",
       "  </tbody>\n",
       "</table>\n",
       "</div>"
      ],
      "text/plain": [
       "Empty DataFrame\n",
       "Columns: [InvoiceNo, StockCode, Description, Quantity, InvoiceDate, UnitPrice, CustomerID, Country]\n",
       "Index: []"
      ]
     },
     "execution_count": 14,
     "metadata": {},
     "output_type": "execute_result"
    }
   ],
   "source": [
    "original_data[(original_data[\"Quantity\"] < 0)&(original_data[\"InvoiceNo\"].str[0] != \"C\")&(original_data[\"UnitPrice\"] != 0)]"
   ]
  },
  {
   "cell_type": "markdown",
   "metadata": {
    "id": "r-kj2hqFUGTg"
   },
   "source": [
    "根據輸出結果，猜想得到驗證，當Quantity變數為負數的時候，觀察值滿足以下條件之一：\n",
    "•\tInvoiceNo以C開頭，表示訂單被取消\n",
    "•\tUnitPrice為0，說明單價為0英鎊\n",
    "這些交易資料均不是有效成交資料，不貢獻銷售，不在後續分析範圍內，因此我們將在資料清理步驟，將Quantity為負數的觀察值刪除。\n"
   ]
  },
  {
   "cell_type": "markdown",
   "metadata": {
    "id": "vRP5mMnZURgI"
   },
   "source": [
    "接下來篩選出UnitPrice為負數的觀察值。"
   ]
  },
  {
   "cell_type": "code",
   "execution_count": 15,
   "metadata": {
    "colab": {
     "base_uri": "https://localhost:8080/",
     "height": 112
    },
    "executionInfo": {
     "elapsed": 26,
     "status": "ok",
     "timestamp": 1759465664777,
     "user": {
      "displayName": "Derek Un",
      "userId": "04159970689370047912"
     },
     "user_tz": -480
    },
    "id": "xNKPy1rAUV-s",
    "outputId": "ad3c7091-ecb1-4ad7-a1be-53877587e44e"
   },
   "outputs": [
    {
     "data": {
      "text/html": [
       "<div>\n",
       "<style scoped>\n",
       "    .dataframe tbody tr th:only-of-type {\n",
       "        vertical-align: middle;\n",
       "    }\n",
       "\n",
       "    .dataframe tbody tr th {\n",
       "        vertical-align: top;\n",
       "    }\n",
       "\n",
       "    .dataframe thead th {\n",
       "        text-align: right;\n",
       "    }\n",
       "</style>\n",
       "<table border=\"1\" class=\"dataframe\">\n",
       "  <thead>\n",
       "    <tr style=\"text-align: right;\">\n",
       "      <th></th>\n",
       "      <th>InvoiceNo</th>\n",
       "      <th>StockCode</th>\n",
       "      <th>Description</th>\n",
       "      <th>Quantity</th>\n",
       "      <th>InvoiceDate</th>\n",
       "      <th>UnitPrice</th>\n",
       "      <th>CustomerID</th>\n",
       "      <th>Country</th>\n",
       "    </tr>\n",
       "  </thead>\n",
       "  <tbody>\n",
       "    <tr>\n",
       "      <th>299983</th>\n",
       "      <td>A563186</td>\n",
       "      <td>B</td>\n",
       "      <td>Adjust bad debt</td>\n",
       "      <td>1</td>\n",
       "      <td>8/12/2011 14:51</td>\n",
       "      <td>-11062.06</td>\n",
       "      <td>NaN</td>\n",
       "      <td>United Kingdom</td>\n",
       "    </tr>\n",
       "    <tr>\n",
       "      <th>299984</th>\n",
       "      <td>A563187</td>\n",
       "      <td>B</td>\n",
       "      <td>Adjust bad debt</td>\n",
       "      <td>1</td>\n",
       "      <td>8/12/2011 14:52</td>\n",
       "      <td>-11062.06</td>\n",
       "      <td>NaN</td>\n",
       "      <td>United Kingdom</td>\n",
       "    </tr>\n",
       "  </tbody>\n",
       "</table>\n",
       "</div>"
      ],
      "text/plain": [
       "       InvoiceNo StockCode      Description  Quantity      InvoiceDate  \\\n",
       "299983   A563186         B  Adjust bad debt         1  8/12/2011 14:51   \n",
       "299984   A563187         B  Adjust bad debt         1  8/12/2011 14:52   \n",
       "\n",
       "        UnitPrice  CustomerID         Country  \n",
       "299983  -11062.06         NaN  United Kingdom  \n",
       "299984  -11062.06         NaN  United Kingdom  "
      ]
     },
     "execution_count": 15,
     "metadata": {},
     "output_type": "execute_result"
    }
   ],
   "source": [
    "original_data[original_data[\"UnitPrice\"] < 0]"
   ]
  },
  {
   "cell_type": "markdown",
   "metadata": {
    "id": "d5PILZfbUcOE"
   },
   "source": [
    "從輸出結果來看，UnitPrice為負數的觀察值都是壞賬調賬(Adjust bad debt)，不屬於實際商品交易資料，因此也在資料清理步驟中也將其刪除。"
   ]
  },
  {
   "cell_type": "markdown",
   "metadata": {
    "id": "WfpZ6XLWV1rg"
   },
   "source": [
    "## 清理数据"
   ]
  },
  {
   "cell_type": "markdown",
   "metadata": {
    "id": "b4uscBMrU2Vs"
   },
   "source": [
    "根據前面評估部分得到的結論，我們需要進行的資料清理包括：\n",
    "\n",
    "1.把InvoiceDate變數的資料類型轉換為為日期時間\n",
    "\n",
    "2.把CustomerID變數的資料類型轉換為字串\n",
    "\n",
    "3.把Description變數缺失的觀察值刪除\n",
    "\n",
    "4.把Country變數值\"USA\"替換為\"United States\"\n",
    "\n",
    "5.把Country變數值\"UK\"、\"U.K.\"替換為\"United Kingdom\"\n",
    "\n",
    "6.把Quantity變數值為負數的觀察值刪除\n",
    "\n",
    "7.把UnitPrice變數值為負數的觀察值刪除"
   ]
  },
  {
   "cell_type": "markdown",
   "metadata": {
    "id": "nd1paxkHWD1i"
   },
   "source": [
    "為了區分開經過清理的資料和原始的資料，我們創建新的變數`cleaned_data`，讓它為`original_data`複製出的副本。我們之後的清理步驟都將被運用在`cleaned_data`上。"
   ]
  },
  {
   "cell_type": "code",
   "execution_count": 16,
   "metadata": {
    "colab": {
     "base_uri": "https://localhost:8080/",
     "height": 293
    },
    "executionInfo": {
     "elapsed": 5,
     "status": "ok",
     "timestamp": 1759465664792,
     "user": {
      "displayName": "Derek Un",
      "userId": "04159970689370047912"
     },
     "user_tz": -480
    },
    "id": "1m5wJ970V1rg",
    "outputId": "78f0cf5d-be0b-4d9c-a281-fe654976d946"
   },
   "outputs": [
    {
     "data": {
      "text/html": [
       "<div>\n",
       "<style scoped>\n",
       "    .dataframe tbody tr th:only-of-type {\n",
       "        vertical-align: middle;\n",
       "    }\n",
       "\n",
       "    .dataframe tbody tr th {\n",
       "        vertical-align: top;\n",
       "    }\n",
       "\n",
       "    .dataframe thead th {\n",
       "        text-align: right;\n",
       "    }\n",
       "</style>\n",
       "<table border=\"1\" class=\"dataframe\">\n",
       "  <thead>\n",
       "    <tr style=\"text-align: right;\">\n",
       "      <th></th>\n",
       "      <th>InvoiceNo</th>\n",
       "      <th>StockCode</th>\n",
       "      <th>Description</th>\n",
       "      <th>Quantity</th>\n",
       "      <th>InvoiceDate</th>\n",
       "      <th>UnitPrice</th>\n",
       "      <th>CustomerID</th>\n",
       "      <th>Country</th>\n",
       "    </tr>\n",
       "  </thead>\n",
       "  <tbody>\n",
       "    <tr>\n",
       "      <th>0</th>\n",
       "      <td>536365</td>\n",
       "      <td>85123A</td>\n",
       "      <td>WHITE HANGING HEART T-LIGHT HOLDER</td>\n",
       "      <td>6</td>\n",
       "      <td>12/1/2010 8:26</td>\n",
       "      <td>2.55</td>\n",
       "      <td>17850.0</td>\n",
       "      <td>United Kingdom</td>\n",
       "    </tr>\n",
       "    <tr>\n",
       "      <th>1</th>\n",
       "      <td>536365</td>\n",
       "      <td>71053</td>\n",
       "      <td>WHITE METAL LANTERN</td>\n",
       "      <td>6</td>\n",
       "      <td>12/1/2010 8:26</td>\n",
       "      <td>3.39</td>\n",
       "      <td>17850.0</td>\n",
       "      <td>United Kingdom</td>\n",
       "    </tr>\n",
       "    <tr>\n",
       "      <th>2</th>\n",
       "      <td>536365</td>\n",
       "      <td>84406B</td>\n",
       "      <td>CREAM CUPID HEARTS COAT HANGER</td>\n",
       "      <td>8</td>\n",
       "      <td>12/1/2010 8:26</td>\n",
       "      <td>2.75</td>\n",
       "      <td>17850.0</td>\n",
       "      <td>United Kingdom</td>\n",
       "    </tr>\n",
       "    <tr>\n",
       "      <th>3</th>\n",
       "      <td>536365</td>\n",
       "      <td>84029G</td>\n",
       "      <td>KNITTED UNION FLAG HOT WATER BOTTLE</td>\n",
       "      <td>6</td>\n",
       "      <td>12/1/2010 8:26</td>\n",
       "      <td>3.39</td>\n",
       "      <td>17850.0</td>\n",
       "      <td>United Kingdom</td>\n",
       "    </tr>\n",
       "    <tr>\n",
       "      <th>4</th>\n",
       "      <td>536365</td>\n",
       "      <td>84029E</td>\n",
       "      <td>RED WOOLLY HOTTIE WHITE HEART.</td>\n",
       "      <td>6</td>\n",
       "      <td>12/1/2010 8:26</td>\n",
       "      <td>3.39</td>\n",
       "      <td>17850.0</td>\n",
       "      <td>United Kingdom</td>\n",
       "    </tr>\n",
       "  </tbody>\n",
       "</table>\n",
       "</div>"
      ],
      "text/plain": [
       "  InvoiceNo StockCode                          Description  Quantity  \\\n",
       "0    536365    85123A   WHITE HANGING HEART T-LIGHT HOLDER         6   \n",
       "1    536365     71053                  WHITE METAL LANTERN         6   \n",
       "2    536365    84406B       CREAM CUPID HEARTS COAT HANGER         8   \n",
       "3    536365    84029G  KNITTED UNION FLAG HOT WATER BOTTLE         6   \n",
       "4    536365    84029E       RED WOOLLY HOTTIE WHITE HEART.         6   \n",
       "\n",
       "      InvoiceDate  UnitPrice  CustomerID         Country  \n",
       "0  12/1/2010 8:26       2.55     17850.0  United Kingdom  \n",
       "1  12/1/2010 8:26       3.39     17850.0  United Kingdom  \n",
       "2  12/1/2010 8:26       2.75     17850.0  United Kingdom  \n",
       "3  12/1/2010 8:26       3.39     17850.0  United Kingdom  \n",
       "4  12/1/2010 8:26       3.39     17850.0  United Kingdom  "
      ]
     },
     "execution_count": 16,
     "metadata": {},
     "output_type": "execute_result"
    }
   ],
   "source": [
    "cleaned_data = original_data.copy()\n",
    "cleaned_data.head()"
   ]
  },
  {
   "cell_type": "markdown",
   "metadata": {
    "id": "6mzP_FWVWYBc"
   },
   "source": [
    "1.把InvoiceDate變數的資料類型轉換為為日期時間"
   ]
  },
  {
   "cell_type": "code",
   "execution_count": 17,
   "metadata": {
    "colab": {
     "base_uri": "https://localhost:8080/",
     "height": 458
    },
    "executionInfo": {
     "elapsed": 67,
     "status": "ok",
     "timestamp": 1759465664861,
     "user": {
      "displayName": "Derek Un",
      "userId": "04159970689370047912"
     },
     "user_tz": -480
    },
    "id": "R9Jthu85WZFL",
    "outputId": "02faa1f3-1921-4bee-8baa-c56ea5171c93"
   },
   "outputs": [
    {
     "data": {
      "text/plain": [
       "0        2010-12-01 08:26:00\n",
       "1        2010-12-01 08:26:00\n",
       "2        2010-12-01 08:26:00\n",
       "3        2010-12-01 08:26:00\n",
       "4        2010-12-01 08:26:00\n",
       "                 ...        \n",
       "541904   2011-12-09 12:50:00\n",
       "541905   2011-12-09 12:50:00\n",
       "541906   2011-12-09 12:50:00\n",
       "541907   2011-12-09 12:50:00\n",
       "541908   2011-12-09 12:50:00\n",
       "Name: InvoiceDate, Length: 541909, dtype: datetime64[ns]"
      ]
     },
     "execution_count": 17,
     "metadata": {},
     "output_type": "execute_result"
    }
   ],
   "source": [
    "cleaned_data[\"InvoiceDate\"] = pd.to_datetime(cleaned_data[\"InvoiceDate\"])\n",
    "cleaned_data[\"InvoiceDate\"]"
   ]
  },
  {
   "cell_type": "markdown",
   "metadata": {
    "id": "VRzD6JgbW0qU"
   },
   "source": [
    "2.把CustomerID變數的資料類型轉換為字串"
   ]
  },
  {
   "cell_type": "code",
   "execution_count": 18,
   "metadata": {
    "colab": {
     "base_uri": "https://localhost:8080/",
     "height": 458
    },
    "executionInfo": {
     "elapsed": 255,
     "status": "ok",
     "timestamp": 1759465665119,
     "user": {
      "displayName": "Derek Un",
      "userId": "04159970689370047912"
     },
     "user_tz": -480
    },
    "id": "qNSCDOInW4Ld",
    "outputId": "67a6ca1d-4b45-4722-d793-cc3f3a542b07"
   },
   "outputs": [
    {
     "data": {
      "text/plain": [
       "0         17850.0\n",
       "1         17850.0\n",
       "2         17850.0\n",
       "3         17850.0\n",
       "4         17850.0\n",
       "           ...   \n",
       "541904    12680.0\n",
       "541905    12680.0\n",
       "541906    12680.0\n",
       "541907    12680.0\n",
       "541908    12680.0\n",
       "Name: CustomerID, Length: 541909, dtype: object"
      ]
     },
     "execution_count": 18,
     "metadata": {},
     "output_type": "execute_result"
    }
   ],
   "source": [
    "cleaned_data[\"CustomerID\"] = cleaned_data[\"CustomerID\"].astype(str)\n",
    "cleaned_data[\"CustomerID\"]"
   ]
  },
  {
   "cell_type": "markdown",
   "metadata": {
    "id": "tZTpD5W7X2B4"
   },
   "source": [
    "把CustomerID變數值結尾的\".0\"刪除："
   ]
  },
  {
   "cell_type": "code",
   "execution_count": 19,
   "metadata": {
    "colab": {
     "base_uri": "https://localhost:8080/",
     "height": 458
    },
    "executionInfo": {
     "elapsed": 72,
     "status": "ok",
     "timestamp": 1759465665192,
     "user": {
      "displayName": "Derek Un",
      "userId": "04159970689370047912"
     },
     "user_tz": -480
    },
    "id": "sPl5SgdTX6Q8",
    "outputId": "f51bd55d-fe37-4557-986e-cac1353dfa7f"
   },
   "outputs": [
    {
     "data": {
      "text/plain": [
       "0         17850\n",
       "1         17850\n",
       "2         17850\n",
       "3         17850\n",
       "4         17850\n",
       "          ...  \n",
       "541904    12680\n",
       "541905    12680\n",
       "541906    12680\n",
       "541907    12680\n",
       "541908    12680\n",
       "Name: CustomerID, Length: 541909, dtype: object"
      ]
     },
     "execution_count": 19,
     "metadata": {},
     "output_type": "execute_result"
    }
   ],
   "source": [
    "cleaned_data[\"CustomerID\"] = cleaned_data[\"CustomerID\"].str.slice(0, -2)\n",
    "cleaned_data[\"CustomerID\"]"
   ]
  },
  {
   "cell_type": "markdown",
   "metadata": {
    "id": "NtSLSxksX-Zw"
   },
   "source": [
    ".slice(0, -2)：對每個字串做「從 index 0（開頭）到倒數第 2 個字元之前」的切片。"
   ]
  },
  {
   "cell_type": "markdown",
   "metadata": {
    "id": "CktLa-ZtYtj8"
   },
   "source": [
    "3.把Description變數缺失的觀察值刪除\n",
    "\n",
    "並查看刪除後該列空缺值個數和："
   ]
  },
  {
   "cell_type": "code",
   "execution_count": 20,
   "metadata": {
    "executionInfo": {
     "elapsed": 66,
     "status": "ok",
     "timestamp": 1759466723701,
     "user": {
      "displayName": "Derek Un",
      "userId": "04159970689370047912"
     },
     "user_tz": -480
    },
    "id": "nNwVDAjqYzgW"
   },
   "outputs": [],
   "source": [
    "cleaned_data.dropna(subset=[\"Description\"], inplace=True)"
   ]
  },
  {
   "cell_type": "markdown",
   "metadata": {
    "id": "UefDT82_ZG2z"
   },
   "source": [
    "dropna()\n",
    "是 pandas 用來刪除缺失值（NaN）的函數。\n",
    "\n",
    "subset=[\"Description\"]\n",
    "表示只針對 Description 欄位檢查是否為 NaN。\n",
    "\n",
    "如果 Description 是 NaN → 那一整列（row）會被刪掉。\n",
    "\n",
    "如果其他欄位是 NaN，但 Description 不是 → 那一列會保留。"
   ]
  },
  {
   "cell_type": "code",
   "execution_count": 21,
   "metadata": {
    "colab": {
     "base_uri": "https://localhost:8080/"
    },
    "executionInfo": {
     "elapsed": 50,
     "status": "ok",
     "timestamp": 1759466812450,
     "user": {
      "displayName": "Derek Un",
      "userId": "04159970689370047912"
     },
     "user_tz": -480
    },
    "id": "tzvR2lxrZOv7",
    "outputId": "919c0710-f455-45d7-fd34-a9bc606f8f44"
   },
   "outputs": [
    {
     "data": {
      "text/plain": [
       "np.int64(0)"
      ]
     },
     "execution_count": 21,
     "metadata": {},
     "output_type": "execute_result"
    }
   ],
   "source": [
    "cleaned_data[\"Description\"].isnull().sum()"
   ]
  },
  {
   "cell_type": "markdown",
   "metadata": {
    "id": "L2kbQUy6Z6kI"
   },
   "source": [
    "把Country變數值\"USA\"替換為\"United States\"，並檢查替換後\"USA\"變數值個數："
   ]
  },
  {
   "cell_type": "code",
   "execution_count": 22,
   "metadata": {
    "executionInfo": {
     "elapsed": 47,
     "status": "ok",
     "timestamp": 1759467001254,
     "user": {
      "displayName": "Derek Un",
      "userId": "04159970689370047912"
     },
     "user_tz": -480
    },
    "id": "fH5SKEANZ7bl"
   },
   "outputs": [],
   "source": [
    "cleaned_data[\"Country\"] = cleaned_data[\"Country\"].replace({\"USA\": \"United States\"})"
   ]
  },
  {
   "cell_type": "code",
   "execution_count": 23,
   "metadata": {
    "colab": {
     "base_uri": "https://localhost:8080/"
    },
    "executionInfo": {
     "elapsed": 41,
     "status": "ok",
     "timestamp": 1759467012002,
     "user": {
      "displayName": "Derek Un",
      "userId": "04159970689370047912"
     },
     "user_tz": -480
    },
    "id": "Gw-ZFrO8Z9yW",
    "outputId": "4af87eaa-f515-49c4-d739-3cf100dd1421"
   },
   "outputs": [
    {
     "data": {
      "text/plain": [
       "0"
      ]
     },
     "execution_count": 23,
     "metadata": {},
     "output_type": "execute_result"
    }
   ],
   "source": [
    "len(cleaned_data[cleaned_data[\"Country\"] == \"USA\"])"
   ]
  },
  {
   "cell_type": "markdown",
   "metadata": {
    "id": "BBKoL5tKaHV1"
   },
   "source": [
    "把Country變數值\"UK\"、\"U.K.\"替換為\"United Kingdom\"，並檢查替換後\"UK\"和\"U.K.\"變數值個數："
   ]
  },
  {
   "cell_type": "code",
   "execution_count": 24,
   "metadata": {
    "executionInfo": {
     "elapsed": 42,
     "status": "ok",
     "timestamp": 1759467053652,
     "user": {
      "displayName": "Derek Un",
      "userId": "04159970689370047912"
     },
     "user_tz": -480
    },
    "id": "hVV_wVRtaJpW"
   },
   "outputs": [],
   "source": [
    "cleaned_data[\"Country\"] = cleaned_data[\"Country\"].replace({\"UK\": \"United Kingdom\", \"U.K.\": \"United Kingdom\"})"
   ]
  },
  {
   "cell_type": "code",
   "execution_count": 25,
   "metadata": {
    "colab": {
     "base_uri": "https://localhost:8080/"
    },
    "executionInfo": {
     "elapsed": 37,
     "status": "ok",
     "timestamp": 1759467066730,
     "user": {
      "displayName": "Derek Un",
      "userId": "04159970689370047912"
     },
     "user_tz": -480
    },
    "id": "eLiwaeJzaKe_",
    "outputId": "b99ac5ae-461c-47bb-bc31-df58751f05ee"
   },
   "outputs": [
    {
     "name": "stdout",
     "output_type": "stream",
     "text": [
      "0\n",
      "0\n"
     ]
    }
   ],
   "source": [
    "print(len(cleaned_data[cleaned_data[\"Country\"] == \"UK\"]))\n",
    "print(len(cleaned_data[cleaned_data[\"Country\"] == \"U.K.\"]))"
   ]
  },
  {
   "cell_type": "markdown",
   "metadata": {
    "id": "3OcJUq68aUvA"
   },
   "source": [
    "把Quantity變數值為負數的觀察值刪除，並檢查替換後Quantity變數值為負數的個數："
   ]
  },
  {
   "cell_type": "code",
   "execution_count": 26,
   "metadata": {
    "executionInfo": {
     "elapsed": 43,
     "status": "ok",
     "timestamp": 1759467217593,
     "user": {
      "displayName": "Derek Un",
      "userId": "04159970689370047912"
     },
     "user_tz": -480
    },
    "id": "Z15k1UHUavBX"
   },
   "outputs": [],
   "source": [
    "cleaned_data = cleaned_data[cleaned_data[\"Quantity\"] >= 0]"
   ]
  },
  {
   "cell_type": "code",
   "execution_count": 27,
   "metadata": {
    "colab": {
     "base_uri": "https://localhost:8080/"
    },
    "executionInfo": {
     "elapsed": 12,
     "status": "ok",
     "timestamp": 1759467231902,
     "user": {
      "displayName": "Derek Un",
      "userId": "04159970689370047912"
     },
     "user_tz": -480
    },
    "id": "BtPtglMSaygK",
    "outputId": "4c00016a-dbb3-45dc-cd47-d17e61724830"
   },
   "outputs": [
    {
     "data": {
      "text/plain": [
       "0"
      ]
     },
     "execution_count": 27,
     "metadata": {},
     "output_type": "execute_result"
    }
   ],
   "source": [
    "len(cleaned_data[cleaned_data[\"Quantity\"] < 0])"
   ]
  },
  {
   "cell_type": "markdown",
   "metadata": {
    "id": "o7iIgx8ia2qz"
   },
   "source": [
    "把UnitPrice變數值為負數的觀察值刪除，並檢查替換後UnitPrice變數值為負數的個數："
   ]
  },
  {
   "cell_type": "code",
   "execution_count": 28,
   "metadata": {
    "executionInfo": {
     "elapsed": 55,
     "status": "ok",
     "timestamp": 1759467261418,
     "user": {
      "displayName": "Derek Un",
      "userId": "04159970689370047912"
     },
     "user_tz": -480
    },
    "id": "R5eXOwjua62p"
   },
   "outputs": [],
   "source": [
    "cleaned_data = cleaned_data[cleaned_data[\"UnitPrice\"] >= 0]"
   ]
  },
  {
   "cell_type": "code",
   "execution_count": 29,
   "metadata": {
    "colab": {
     "base_uri": "https://localhost:8080/"
    },
    "executionInfo": {
     "elapsed": 10,
     "status": "ok",
     "timestamp": 1759467270580,
     "user": {
      "displayName": "Derek Un",
      "userId": "04159970689370047912"
     },
     "user_tz": -480
    },
    "id": "zV_bTl5aa-d8",
    "outputId": "67a19444-4250-4ef8-ddb2-894f0d00e07c"
   },
   "outputs": [
    {
     "data": {
      "text/plain": [
       "0"
      ]
     },
     "execution_count": 29,
     "metadata": {},
     "output_type": "execute_result"
    }
   ],
   "source": [
    "len(cleaned_data[cleaned_data[\"UnitPrice\"] < 0])"
   ]
  },
  {
   "cell_type": "markdown",
   "metadata": {
    "id": "txkEGjmdV1rg"
   },
   "source": [
    "## 保存清理后的数据"
   ]
  },
  {
   "cell_type": "markdown",
   "metadata": {
    "id": "RHQiBJOxbsnv"
   },
   "source": [
    "完成資料清理後，把乾淨整齊的資料保存到新的檔裡，檔案名為e_commerce_cleaned.csv。"
   ]
  },
  {
   "cell_type": "code",
   "execution_count": 30,
   "metadata": {
    "executionInfo": {
     "elapsed": 2561,
     "status": "ok",
     "timestamp": 1759467751752,
     "user": {
      "displayName": "Derek Un",
      "userId": "04159970689370047912"
     },
     "user_tz": -480
    },
    "id": "JtCShViuV1rh"
   },
   "outputs": [],
   "source": [
    "cleaned_data.to_csv(r\"C:\\Users\\User\\Desktop\\python\\e_commerce_cleaned.csv\", index=False)"
   ]
  },
  {
   "cell_type": "code",
   "execution_count": 35,
   "metadata": {},
   "outputs": [
    {
     "name": "stderr",
     "output_type": "stream",
     "text": [
      "C:\\Users\\User\\AppData\\Local\\Temp\\ipykernel_4368\\402640467.py:1: DtypeWarning: Columns (0) have mixed types. Specify dtype option on import or set low_memory=False.\n",
      "  pd.read_csv(r\"C:\\Users\\User\\Desktop\\python\\e_commerce_cleaned.csv\").head()\n"
     ]
    },
    {
     "data": {
      "text/html": [
       "<div>\n",
       "<style scoped>\n",
       "    .dataframe tbody tr th:only-of-type {\n",
       "        vertical-align: middle;\n",
       "    }\n",
       "\n",
       "    .dataframe tbody tr th {\n",
       "        vertical-align: top;\n",
       "    }\n",
       "\n",
       "    .dataframe thead th {\n",
       "        text-align: right;\n",
       "    }\n",
       "</style>\n",
       "<table border=\"1\" class=\"dataframe\">\n",
       "  <thead>\n",
       "    <tr style=\"text-align: right;\">\n",
       "      <th></th>\n",
       "      <th>InvoiceNo</th>\n",
       "      <th>StockCode</th>\n",
       "      <th>Description</th>\n",
       "      <th>Quantity</th>\n",
       "      <th>InvoiceDate</th>\n",
       "      <th>UnitPrice</th>\n",
       "      <th>CustomerID</th>\n",
       "      <th>Country</th>\n",
       "    </tr>\n",
       "  </thead>\n",
       "  <tbody>\n",
       "    <tr>\n",
       "      <th>0</th>\n",
       "      <td>536365</td>\n",
       "      <td>85123A</td>\n",
       "      <td>WHITE HANGING HEART T-LIGHT HOLDER</td>\n",
       "      <td>6</td>\n",
       "      <td>2010-12-01 08:26:00</td>\n",
       "      <td>2.55</td>\n",
       "      <td>17850</td>\n",
       "      <td>United Kingdom</td>\n",
       "    </tr>\n",
       "    <tr>\n",
       "      <th>1</th>\n",
       "      <td>536365</td>\n",
       "      <td>71053</td>\n",
       "      <td>WHITE METAL LANTERN</td>\n",
       "      <td>6</td>\n",
       "      <td>2010-12-01 08:26:00</td>\n",
       "      <td>3.39</td>\n",
       "      <td>17850</td>\n",
       "      <td>United Kingdom</td>\n",
       "    </tr>\n",
       "    <tr>\n",
       "      <th>2</th>\n",
       "      <td>536365</td>\n",
       "      <td>84406B</td>\n",
       "      <td>CREAM CUPID HEARTS COAT HANGER</td>\n",
       "      <td>8</td>\n",
       "      <td>2010-12-01 08:26:00</td>\n",
       "      <td>2.75</td>\n",
       "      <td>17850</td>\n",
       "      <td>United Kingdom</td>\n",
       "    </tr>\n",
       "    <tr>\n",
       "      <th>3</th>\n",
       "      <td>536365</td>\n",
       "      <td>84029G</td>\n",
       "      <td>KNITTED UNION FLAG HOT WATER BOTTLE</td>\n",
       "      <td>6</td>\n",
       "      <td>2010-12-01 08:26:00</td>\n",
       "      <td>3.39</td>\n",
       "      <td>17850</td>\n",
       "      <td>United Kingdom</td>\n",
       "    </tr>\n",
       "    <tr>\n",
       "      <th>4</th>\n",
       "      <td>536365</td>\n",
       "      <td>84029E</td>\n",
       "      <td>RED WOOLLY HOTTIE WHITE HEART.</td>\n",
       "      <td>6</td>\n",
       "      <td>2010-12-01 08:26:00</td>\n",
       "      <td>3.39</td>\n",
       "      <td>17850</td>\n",
       "      <td>United Kingdom</td>\n",
       "    </tr>\n",
       "  </tbody>\n",
       "</table>\n",
       "</div>"
      ],
      "text/plain": [
       "  InvoiceNo StockCode                          Description  Quantity  \\\n",
       "0    536365    85123A   WHITE HANGING HEART T-LIGHT HOLDER         6   \n",
       "1    536365     71053                  WHITE METAL LANTERN         6   \n",
       "2    536365    84406B       CREAM CUPID HEARTS COAT HANGER         8   \n",
       "3    536365    84029G  KNITTED UNION FLAG HOT WATER BOTTLE         6   \n",
       "4    536365    84029E       RED WOOLLY HOTTIE WHITE HEART.         6   \n",
       "\n",
       "           InvoiceDate  UnitPrice CustomerID         Country  \n",
       "0  2010-12-01 08:26:00       2.55      17850  United Kingdom  \n",
       "1  2010-12-01 08:26:00       3.39      17850  United Kingdom  \n",
       "2  2010-12-01 08:26:00       2.75      17850  United Kingdom  \n",
       "3  2010-12-01 08:26:00       3.39      17850  United Kingdom  \n",
       "4  2010-12-01 08:26:00       3.39      17850  United Kingdom  "
      ]
     },
     "execution_count": 35,
     "metadata": {},
     "output_type": "execute_result"
    }
   ],
   "source": [
    "pd.read_csv(r\"C:\\Users\\User\\Desktop\\python\\e_commerce_cleaned.csv\").head()"
   ]
  },
  {
   "cell_type": "code",
   "execution_count": null,
   "metadata": {},
   "outputs": [],
   "source": []
  }
 ],
 "metadata": {
  "colab": {
   "provenance": []
  },
  "kernelspec": {
   "display_name": "Python 3 (ipykernel)",
   "language": "python",
   "name": "python3"
  },
  "language_info": {
   "codemirror_mode": {
    "name": "ipython",
    "version": 3
   },
   "file_extension": ".py",
   "mimetype": "text/x-python",
   "name": "python",
   "nbconvert_exporter": "python",
   "pygments_lexer": "ipython3",
   "version": "3.13.7"
  }
 },
 "nbformat": 4,
 "nbformat_minor": 4
}
